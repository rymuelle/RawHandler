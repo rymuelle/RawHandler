{
 "cells": [
  {
   "cell_type": "code",
   "execution_count": null,
   "id": "405d14a3",
   "metadata": {},
   "outputs": [],
   "source": [
    "from RawHandler.utils import align_images\n",
    "from RawHandler.RawHandler import RawHandler\n",
    "import os\n",
    "import matplotlib.pyplot as plt"
   ]
  },
  {
   "cell_type": "code",
   "execution_count": null,
   "id": "2bee5068",
   "metadata": {},
   "outputs": [],
   "source": [
    "# Download example raw files\n",
    "def download_file_if_needed(file_url, output_file):\n",
    "    if not os.path.exists(output_file):\n",
    "        download_file_requests(file_url, output_file)\n",
    "\n",
    "low_iso_file_url = \"https://dataverse.uclouvain.be/api/access/datafile/:persistentId?persistentId=doi:10.14428/DVN/DEQCIM/UNYG7K\"\n",
    "low_iso_output_file = \"gtBark_GT.arw\"\n",
    "download_file_if_needed(low_iso_file_url, low_iso_output_file)\n",
    "\n",
    "high_iso_file_url = \"https://dataverse.uclouvain.be/api/access/datafile/:persistentId?persistentId=doi:10.14428/DVN/DEQCIM/AVO8RR\"\n",
    "high_iso_output_file = \"gtBark_12800.arw\"\n",
    "download_file_if_needed(high_iso_file_url, high_iso_output_file)"
   ]
  },
  {
   "cell_type": "code",
   "execution_count": null,
   "id": "49b48e2c",
   "metadata": {},
   "outputs": [],
   "source": [
    "# A simple code to align image is also provided for use in supervised learning. \n",
    "# The first raw handler is the target to be used to align to, the second is aligned. \n",
    "# The crop is specified by 'dims', and a starting offset can be supplied.\n",
    "low_iso_rh = RawHandler(\"gtBark_GT.arw\")\n",
    "high_iso_rh = RawHandler('gtBark_12800.arw')\n",
    "dims = (1500, 1500 + 200, 4500, 4500 + 200)\n",
    "\n",
    "offset = align_images(high_iso_rh, low_iso_rh, dims,  offset=(0, 0, 0, 0))\n",
    "offset"
   ]
  },
  {
   "cell_type": "code",
   "execution_count": null,
   "id": "616e31ef",
   "metadata": {},
   "outputs": [],
   "source": [
    "# We can see the initial results with and without alignment\n",
    "\n",
    "img_unaligned = low_iso_rh.as_RGB_colorspace(dims = dims , colorspace='sRGB').transpose(1, 2, 0) * 3\n",
    "img = low_iso_rh.as_RGB_colorspace(dims = dims + offset, colorspace='sRGB').transpose(1, 2, 0) * 3\n",
    "\n",
    "img_noisy = high_iso_rh.as_RGB_colorspace(dims = dims, colorspace='sRGB').transpose(1, 2, 0) * 3\n",
    "\n",
    "plt.subplots(2, 2, figsize=(10, 10))\n",
    "plt.subplot(2, 2, 1)\n",
    "plt.imshow(img_noisy)\n",
    "plt.title('High-ISO')\n",
    "\n",
    "plt.subplot(2, 2, 2)\n",
    "plt.imshow(img)\n",
    "plt.title('Low-ISO')\n",
    "\n",
    "plt.subplot(2, 2, 3)\n",
    "plt.imshow(img_noisy-img_unaligned)\n",
    "plt.title(\"Difference without alignment\")\n",
    "\n",
    "plt.subplot(2, 2, 4)\n",
    "plt.imshow(img_noisy-img)\n",
    "plt.title(\"Difference with alignment\")"
   ]
  }
 ],
 "metadata": {
  "kernelspec": {
   "display_name": "OnSight",
   "language": "python",
   "name": "python3"
  },
  "language_info": {
   "codemirror_mode": {
    "name": "ipython",
    "version": 3
   },
   "file_extension": ".py",
   "mimetype": "text/x-python",
   "name": "python",
   "nbconvert_exporter": "python",
   "pygments_lexer": "ipython3",
   "version": "3.11.11"
  }
 },
 "nbformat": 4,
 "nbformat_minor": 5
}
