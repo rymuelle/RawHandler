{
 "cells": [
  {
   "cell_type": "code",
   "execution_count": null,
   "id": "f01552a7",
   "metadata": {},
   "outputs": [],
   "source": [
    "from RawHandler.RawHandler import RawHandler\n",
    "from RawHandler.utils import download_file_requests\n",
    "import matplotlib.pyplot as plt\n",
    "import os"
   ]
  },
  {
   "cell_type": "code",
   "execution_count": null,
   "id": "92ed72d7",
   "metadata": {},
   "outputs": [],
   "source": [
    "# Download example raw files\n",
    "def download_file_if_needed(file_url, output_file):\n",
    "    if not os.path.exists(output_file):\n",
    "        download_file_requests(file_url, output_file)\n",
    "\n",
    "file_url = \"https://dataverse.uclouvain.be/api/access/datafile/:persistentId?persistentId=doi:10.14428/DVN/DEQCIM/UNYG7K\"\n",
    "output_file = \"gtBark_GT.arw\"\n",
    "download_file_if_needed(file_url, output_file)"
   ]
  },
  {
   "cell_type": "code",
   "execution_count": null,
   "id": "edd4d31e",
   "metadata": {},
   "outputs": [],
   "source": [
    "# Load the first image\n",
    "rh = RawHandler(\"gtBark_GT.arw\")"
   ]
  },
  {
   "cell_type": "code",
   "execution_count": null,
   "id": "0cbc2651",
   "metadata": {},
   "outputs": [],
   "source": [
    "# Shows the raw pattern\n",
    "rh.bayer_pattern_description()"
   ]
  },
  {
   "cell_type": "code",
   "execution_count": null,
   "id": "7e53a881",
   "metadata": {},
   "outputs": [],
   "source": [
    "# We can acccess the underlying bayer data\n",
    "# dims = (h1, h2, w1, w2)\n",
    "dims = (1500, 1500 + 200, 4500, 4500 + 200)\n",
    "bayer = rh.raw\n",
    "plt.imshow(bayer[dims[0] : dims[1], dims[2] : dims[3]])"
   ]
  },
  {
   "cell_type": "code",
   "execution_count": null,
   "id": "4e1c4296",
   "metadata": {},
   "outputs": [],
   "source": [
    "# Or, we can use the input_handler method to crop it and format it as shape [1, H, W] as needed for using in common machine learning libraries.\n",
    "# The cropping functionality rounds to n % 2 == 0 to ensure proper alighment of the bayer array.\n",
    "bayer = rh.input_handler(dims=dims)\n",
    "plt.imshow(bayer.transpose(1, 2, 0))\n",
    "bayer.min(), bayer.max()"
   ]
  },
  {
   "cell_type": "code",
   "execution_count": null,
   "id": "38ddb400",
   "metadata": {},
   "outputs": [],
   "source": [
    "# To return a representation that is black and white point corrected, as well as scaled (roughly) between 0 and 1, we can use the 'adjust_bayer_bw_levels' method.\n",
    "bayer = rh.adjust_bayer_bw_levels(dims=dims)\n",
    "plt.imshow(bayer.transpose(1, 2, 0))\n",
    "bayer.min(), bayer.max()"
   ]
  },
  {
   "cell_type": "code",
   "execution_count": null,
   "id": "d2a08be2",
   "metadata": {},
   "outputs": [],
   "source": [
    "# However, chances are we want two representations: the rggb resentation of the bayer array and a demosaiced ground truth.\n",
    "# The rggb representation stacks the 4 pixels of the bayer pattern into one. Naturally, this has 1/2 the linear size of the original image.\n",
    "rggb = rh.as_rggb(dims=dims)\n",
    "plt.subplots(1, 4, figsize=(16, 4))\n",
    "for idx, channel in enumerate(rh.bayer_pattern):\n",
    "    plt.subplot(1, 4, idx + 1)\n",
    "    plt.imshow(rggb[idx])\n",
    "    plt.title(channel)"
   ]
  },
  {
   "cell_type": "code",
   "execution_count": null,
   "id": "efe09489",
   "metadata": {},
   "outputs": [],
   "source": [
    "# We might also want a demosaiced version as an input or ground truth.\n",
    "# Since the output is still in a linear space with no gamma curve applied, I multiply by 3 for visualization.\n",
    "rgb = rh.as_rgb(dims=dims)\n",
    "plt.imshow(rgb.transpose(1, 2, 0) * 3)"
   ]
  },
  {
   "cell_type": "code",
   "execution_count": null,
   "id": "6fcc913c",
   "metadata": {},
   "outputs": [],
   "source": [
    "# Of course, that looks quite green because we haven't converted the camera colorspace to one we use for visualization, but we can do that as well!\n",
    "aRGB = rh.as_RGB_colorspace(dims=dims, colorspace=\"AdobeRGB\")\n",
    "plt.imshow(aRGB.transpose(1, 2, 0) * 3)"
   ]
  },
  {
   "cell_type": "code",
   "execution_count": null,
   "id": "db701808",
   "metadata": {},
   "outputs": [],
   "source": [
    "# Each call process the image from the basic raw data, if we do not want to do this, we can specify the input image with the 'img' keyword arg.\n",
    "aRGB = rh.as_RGB_colorspace(img=rgb, colorspace=\"AdobeRGB\")\n",
    "plt.imshow(aRGB.transpose(1, 2, 0) * 3)"
   ]
  }
 ],
 "metadata": {
  "kernelspec": {
   "display_name": "OnSight",
   "language": "python",
   "name": "python3"
  },
  "language_info": {
   "codemirror_mode": {
    "name": "ipython",
    "version": 3
   },
   "file_extension": ".py",
   "mimetype": "text/x-python",
   "name": "python",
   "nbconvert_exporter": "python",
   "pygments_lexer": "ipython3",
   "version": "3.11.11"
  }
 },
 "nbformat": 4,
 "nbformat_minor": 5
}
