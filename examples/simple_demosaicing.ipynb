{
 "cells": [
  {
   "cell_type": "code",
   "execution_count": null,
   "id": "f01552a7",
   "metadata": {},
   "outputs": [],
   "source": [
    "from RawHandler.RawHandler import RawHandler\n",
    "from RawHandler.utils import download_file_requests\n",
    "import matplotlib.pyplot as plt\n",
    "import os"
   ]
  },
  {
   "cell_type": "code",
   "execution_count": null,
   "id": "92ed72d7",
   "metadata": {},
   "outputs": [],
   "source": [
    "# Download example raw file.\n",
    "file_url = \"https://dataverse.uclouvain.be/api/access/datafile/:persistentId?persistentId=doi:10.14428/DVN/DEQCIM/LWSLMG\"\n",
    "\n",
    "output_file = \"example_raw.arw\"\n",
    "\n",
    "if not os.path.exists(output_file):\n",
    "    download_file_requests(file_url, output_file)"
   ]
  },
  {
   "cell_type": "code",
   "execution_count": null,
   "id": "edd4d31e",
   "metadata": {},
   "outputs": [],
   "source": [
    "rh = RawHandler(\"example_raw.arw\")"
   ]
  },
  {
   "cell_type": "code",
   "execution_count": null,
   "id": "0cbc2651",
   "metadata": {},
   "outputs": [],
   "source": [
    "# Shows the raw pattern\n",
    "\n",
    "rh.bayer_pattern_description()"
   ]
  },
  {
   "cell_type": "code",
   "execution_count": null,
   "id": "d2a08be2",
   "metadata": {},
   "outputs": [],
   "source": [
    "# Converts raw data to RGB data, and crop\n",
    "# The image needs to be transposed to put the channels last as it is by default set up to return channles first as is torch's standard.\n",
    "# The output is quite green as we haven't applied a colorspace yet.\n",
    "img = rh.as_rgb()\n",
    "plt.imshow(img.transpose(1, 2, 0))"
   ]
  },
  {
   "cell_type": "code",
   "execution_count": null,
   "id": "6fcc913c",
   "metadata": {},
   "outputs": [],
   "source": [
    "# Now, the colors look nicer, but still quite dark as it is in a linear color space.\n",
    "img = rh.as_RGB_colorspace(img=img, colorspace=\"AdobeRGB\")\n",
    "plt.imshow(img.transpose(1, 2, 0))"
   ]
  }
 ],
 "metadata": {
  "kernelspec": {
   "display_name": "OnSight",
   "language": "python",
   "name": "python3"
  },
  "language_info": {
   "codemirror_mode": {
    "name": "ipython",
    "version": 3
   },
   "file_extension": ".py",
   "mimetype": "text/x-python",
   "name": "python",
   "nbconvert_exporter": "python",
   "pygments_lexer": "ipython3",
   "version": "3.11.11"
  }
 },
 "nbformat": 4,
 "nbformat_minor": 5
}
